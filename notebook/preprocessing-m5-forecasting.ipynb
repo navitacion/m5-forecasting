{
 "cells": [
  {
   "cell_type": "code",
   "execution_count": 3,
   "metadata": {
    "_cell_guid": "b1076dfc-b9ad-4769-8c92-a6c4dae69d19",
    "_uuid": "8f2839f25d086af736a60e9eeb907d3b93b6e0e5"
   },
   "outputs": [],
   "source": [
    "%matplotlib inline\n",
    "\n",
    "import os, glob, time, datetime, gc, pickle\n",
    "from tqdm import tqdm_notebook as tqdm\n",
    "from pathlib import Path\n",
    "import numpy as np\n",
    "import pandas as pd\n",
    "\n",
    "import matplotlib.pyplot as plt\n",
    "import seaborn as sns\n",
    "\n",
    "pd.set_option('display.max_rows', None)\n",
    "pd.set_option('display.max_columns', None)"
   ]
  },
  {
   "cell_type": "code",
   "execution_count": 4,
   "metadata": {
    "_cell_guid": "79c7e3d0-c299-4dcb-8224-4455121ee9b0",
    "_uuid": "d629ff2d2480ee46fbb7e2d37f6b5fab8052498a"
   },
   "outputs": [
    {
     "data": {
      "text/plain": [
       "['.DS_Store',\n",
       " 'calendar.csv',\n",
       " 'sell_prices.csv',\n",
       " 'sales_train_validation.csv',\n",
       " 'sample_submission.csv']"
      ]
     },
     "execution_count": 4,
     "metadata": {},
     "output_type": "execute_result"
    }
   ],
   "source": [
    "data_dir = Path('../data/input')\n",
    "os.listdir('../data/input')"
   ]
  },
  {
   "cell_type": "markdown",
   "metadata": {},
   "source": [
    "---\n",
    "# Preprocessing"
   ]
  },
  {
   "cell_type": "code",
   "execution_count": 5,
   "metadata": {},
   "outputs": [],
   "source": [
    "def reduce_mem_usage(df):\n",
    "    \"\"\" iterate through all the columns of a dataframe and modify the data type\n",
    "        to reduce memory usage.        \n",
    "    \"\"\"\n",
    "    start_mem = df.memory_usage().sum() / 1024**2\n",
    "    print('Memory usage of dataframe is {:.2f} MB'.format(start_mem))\n",
    "    \n",
    "    for col in df.columns:\n",
    "        col_type = df[col].dtype\n",
    "        \n",
    "        if col_type != object:\n",
    "            c_min = df[col].min()\n",
    "            c_max = df[col].max()\n",
    "            if str(col_type)[:3] == 'int':\n",
    "                if c_min > np.iinfo(np.int8).min and c_max < np.iinfo(np.int8).max:\n",
    "                    df[col] = df[col].astype(np.int8)\n",
    "                elif c_min > np.iinfo(np.int16).min and c_max < np.iinfo(np.int16).max:\n",
    "                    df[col] = df[col].astype(np.int16)\n",
    "                elif c_min > np.iinfo(np.int32).min and c_max < np.iinfo(np.int32).max:\n",
    "                    df[col] = df[col].astype(np.int32)\n",
    "                elif c_min > np.iinfo(np.int64).min and c_max < np.iinfo(np.int64).max:\n",
    "                    df[col] = df[col].astype(np.int64)  \n",
    "            else:\n",
    "                if c_min > np.finfo(np.float16).min and c_max < np.finfo(np.float16).max:\n",
    "                    df[col] = df[col].astype(np.float16)\n",
    "                elif c_min > np.finfo(np.float32).min and c_max < np.finfo(np.float32).max:\n",
    "                    df[col] = df[col].astype(np.float32)\n",
    "                else:\n",
    "                    df[col] = df[col].astype(np.float64)\n",
    "        else:\n",
    "            df[col] = df[col].astype('object')\n",
    "\n",
    "    end_mem = df.memory_usage().sum() / 1024**2\n",
    "    print('Memory usage after optimization is: {:.2f} MB'.format(end_mem))\n",
    "    print('Decreased by {:.1f}%'.format(100 * (start_mem - end_mem) / start_mem))\n",
    "    \n",
    "    return df"
   ]
  },
  {
   "cell_type": "code",
   "execution_count": 6,
   "metadata": {},
   "outputs": [],
   "source": [
    "# divide train, val, test data\n",
    "def get_data(train, sub):\n",
    "    # Train  ###################################################\n",
    "    # Concatenate Values per 'd_x'\n",
    "    id_list = []\n",
    "    v_list = []\n",
    "    date_list = []\n",
    "\n",
    "    for i in range(len(train)):\n",
    "\n",
    "        v = train.iloc[i, 6:].values.tolist()\n",
    "        ids = train.iloc[i, :1].values.tolist() * len(v)\n",
    "        dates = train.columns[6:]\n",
    "\n",
    "        v_list.extend(v)\n",
    "        id_list.extend(ids)\n",
    "        date_list.extend(dates)\n",
    "\n",
    "    train = pd.DataFrame({\n",
    "        'id': id_list,\n",
    "        'd': date_list,\n",
    "        'values': v_list\n",
    "    })\n",
    "\n",
    "    # validation  #######################################################\n",
    "    id_list = []\n",
    "    date_list = []\n",
    "    set_ids = [i for i in sub['id'].values if 'validation' in i]\n",
    "    for _id in set_ids:\n",
    "        ids = [_id] * 28\n",
    "        dates = [f'd_{i}' for i in np.arange(1914, 1941 + 1, 1)]\n",
    "\n",
    "        id_list.extend(ids)\n",
    "        date_list.extend(dates)\n",
    "\n",
    "    vals = pd.DataFrame({\n",
    "        'id': id_list,\n",
    "        'd': date_list,\n",
    "    })\n",
    "\n",
    "    # evaluation  #######################################################\n",
    "    id_list = []\n",
    "    date_list = []\n",
    "    set_ids = [i for i in sub['id'].values if 'evaluation' in i]\n",
    "    for _id in set_ids:\n",
    "        ids = [_id] * 28\n",
    "        dates = [f'd_{i}' for i in np.arange(1942, 1969 + 1, 1)]\n",
    "\n",
    "        id_list.extend(ids)\n",
    "        date_list.extend(dates)\n",
    "\n",
    "    evals = pd.DataFrame({\n",
    "        'id': id_list,\n",
    "        'd': date_list,\n",
    "    })\n",
    "    \n",
    "    return train, vals, evals\n",
    "\n",
    "def preprocessing(d, calendar, sell):\n",
    "    # Set Id  #######################################################\n",
    "    for i in range(5):\n",
    "        d[f'id_{i}'] = d['id'].apply(lambda x: str(x.split('_')[i]))\n",
    "    d['store_id'] = d['id_3'] + '_' + d['id_4']\n",
    "    d['item_id'] = d['id_0'] + '_' + d['id_1'] + '_' + d['id_2']\n",
    "    d.drop([f'id_{i}' for i in range(5)], axis=1, inplace=True)\n",
    "    \n",
    "    # Merge  #####################################################\n",
    "    # Calendar\n",
    "    d = pd.merge(d, calendar, on='d')\n",
    "\n",
    "    # integrate 'snap' feature\n",
    "    def snap(row):\n",
    "        if 'CA' in row['store_id']:\n",
    "            return row['snap_CA']\n",
    "        elif 'TX' in row['store_id']:\n",
    "            return row['snap_TX']\n",
    "        elif 'WI' in row['store_id']:\n",
    "            return row['snap_WI']\n",
    "        else:\n",
    "            pass\n",
    "\n",
    "    d['snap'] = d.apply(snap, axis=1)\n",
    "    \n",
    "    # sellprice\n",
    "    d = pd.merge(d, sell, on=['store_id', 'item_id', 'wm_yr_wk'])\n",
    "    \n",
    "    return d"
   ]
  },
  {
   "cell_type": "code",
   "execution_count": 5,
   "metadata": {},
   "outputs": [
    {
     "name": "stdout",
     "output_type": "stream",
     "text": [
      "0\n",
      "Memory usage of dataframe is 437.85 MB\n",
      "Memory usage after optimization is: 328.39 MB\n",
      "Decreased by 25.0%\n",
      "1\n",
      "Memory usage of dataframe is 437.85 MB\n",
      "Memory usage after optimization is: 328.39 MB\n",
      "Decreased by 25.0%\n",
      "2\n",
      "Memory usage of dataframe is 437.85 MB\n",
      "Memory usage after optimization is: 328.39 MB\n",
      "Decreased by 25.0%\n",
      "3\n",
      "Memory usage of dataframe is 21.45 MB\n",
      "Memory usage after optimization is: 16.09 MB\n",
      "Decreased by 25.0%\n",
      "Memory usage of dataframe is 6759.93 MB\n",
      "Memory usage after optimization is: 4126.19 MB\n",
      "Decreased by 39.0%\n",
      "id               object\n",
      "d                object\n",
      "values            int16\n",
      "store_id         object\n",
      "item_id          object\n",
      "date             object\n",
      "wm_yr_wk          int16\n",
      "weekday          object\n",
      "wday               int8\n",
      "month              int8\n",
      "year              int16\n",
      "event_name_1     object\n",
      "event_type_1     object\n",
      "event_name_2     object\n",
      "event_type_2     object\n",
      "snap_CA            int8\n",
      "snap_TX            int8\n",
      "snap_WI            int8\n",
      "snap               int8\n",
      "sell_price      float16\n",
      "dtype: object\n",
      "Wall time: 44min 18s\n"
     ]
    }
   ],
   "source": [
    "%%time\n",
    "# Preprocessing - Train\n",
    "# Load\n",
    "reader = pd.read_csv(data_dir.joinpath('sales_train_validation.csv'), chunksize=10000)\n",
    "\n",
    "train = pd.DataFrame()\n",
    "\n",
    "# train\n",
    "for i, _train in enumerate(reader):\n",
    "    print(i)\n",
    "    sub = pd.read_csv(data_dir.joinpath('sample_submission.csv'))\n",
    "    _train, test_public, test_private = get_data(_train, sub)\n",
    "    del test_public, test_private, sub\n",
    "    _train = reduce_mem_usage(_train)\n",
    "    gc.collect()\n",
    "\n",
    "    calendar = pd.read_csv(data_dir.joinpath('calendar.csv'))\n",
    "    sell = pd.read_csv(data_dir.joinpath('sell_prices.csv'))\n",
    "    _train = preprocessing(_train, calendar, sell)\n",
    "    del calendar, sell\n",
    "    gc.collect()\n",
    "\n",
    "    with open(f'../data/prep_train_{i}.pkl', 'wb') as f:\n",
    "        pickle.dump(_train, f, protocol=4)\n",
    "        \n",
    "    # Concatenate\n",
    "    train = pd.concat([train, _train], axis=0, ignore_index=True)\n",
    "    \n",
    "    del _train\n",
    "    gc.collect()\n",
    "    \n",
    "train = reduce_mem_usage(train)\n",
    "print(train.dtypes)\n",
    "    \n",
    "with open('../data/prep_train.pkl', 'wb') as f:\n",
    "    pickle.dump(train, f, protocol=4)"
   ]
  },
  {
   "cell_type": "code",
   "execution_count": 6,
   "metadata": {},
   "outputs": [
    {
     "data": {
      "text/plain": [
       "20"
      ]
     },
     "execution_count": 6,
     "metadata": {},
     "output_type": "execute_result"
    }
   ],
   "source": [
    "del train\n",
    "gc.collect()"
   ]
  },
  {
   "cell_type": "code",
   "execution_count": 11,
   "metadata": {},
   "outputs": [
    {
     "name": "stdout",
     "output_type": "stream",
     "text": [
      "Memory usage of dataframe is 13.03 MB\n",
      "Memory usage after optimization is: 13.03 MB\n",
      "Decreased by 0.0%\n",
      "DONE\n",
      "CPU times: user 2min 20s, sys: 6.51 s, total: 2min 26s\n",
      "Wall time: 2min 28s\n"
     ]
    }
   ],
   "source": [
    "%%time\n",
    "# Preprocessing - vals\n",
    "# Load\n",
    "train = pd.read_csv(data_dir.joinpath('sales_train_validation.csv'))\n",
    "sub = pd.read_csv(data_dir.joinpath('sample_submission.csv'))\n",
    "\n",
    "# train\n",
    "train, vals, _ = get_data(train, sub)\n",
    "del train, _, sub\n",
    "vals = reduce_mem_usage(vals)\n",
    "gc.collect()\n",
    "\n",
    "calendar = pd.read_csv(data_dir.joinpath('calendar.csv'))\n",
    "sell = pd.read_csv(data_dir.joinpath('sell_prices.csv'))\n",
    "vals = preprocessing(vals, calendar, sell)\n",
    "\n",
    "with open('../data/validation.pkl', 'wb') as f:\n",
    "    pickle.dump(vals, f, protocol=4)\n",
    "    \n",
    "del vals, calendar, sell\n",
    "gc.collect()\n",
    "print('DONE')"
   ]
  },
  {
   "cell_type": "code",
   "execution_count": 7,
   "metadata": {},
   "outputs": [
    {
     "name": "stdout",
     "output_type": "stream",
     "text": [
      "Memory usage of dataframe is 13.03 MB\n",
      "Memory usage after optimization is: 13.03 MB\n",
      "Decreased by 0.0%\n",
      "DONE\n",
      "CPU times: user 2min 23s, sys: 6.38 s, total: 2min 29s\n",
      "Wall time: 2min 33s\n"
     ]
    }
   ],
   "source": [
    "%%time\n",
    "# Preprocessing - evals\n",
    "# Load\n",
    "train = pd.read_csv(data_dir.joinpath('sales_train_validation.csv'))\n",
    "sub = pd.read_csv(data_dir.joinpath('sample_submission.csv'))\n",
    "\n",
    "# train\n",
    "train, _, evals = get_data(train, sub)\n",
    "del train, _, sub\n",
    "evals = reduce_mem_usage(evals)\n",
    "gc.collect()\n",
    "\n",
    "calendar = pd.read_csv(data_dir.joinpath('calendar.csv'))\n",
    "sell = pd.read_csv(data_dir.joinpath('sell_prices.csv'))\n",
    "evals = preprocessing(evals, calendar, sell)\n",
    "\n",
    "with open('../data/evaluation.pkl', 'wb') as f:\n",
    "    pickle.dump(evals, f, protocol=4)\n",
    "    \n",
    "del evals, calendar, sell\n",
    "gc.collect()\n",
    "print('DONE')"
   ]
  },
  {
   "cell_type": "code",
   "execution_count": 9,
   "metadata": {},
   "outputs": [
    {
     "name": "stdout",
     "output_type": "stream",
     "text": [
      "FINISH\n"
     ]
    }
   ],
   "source": [
    "print('FINISH')"
   ]
  },
  {
   "cell_type": "code",
   "execution_count": null,
   "metadata": {},
   "outputs": [],
   "source": []
  }
 ],
 "metadata": {
  "kernelspec": {
   "display_name": "Python 3",
   "language": "python",
   "name": "python3"
  },
  "language_info": {
   "codemirror_mode": {
    "name": "ipython",
    "version": 3
   },
   "file_extension": ".py",
   "mimetype": "text/x-python",
   "name": "python",
   "nbconvert_exporter": "python",
   "pygments_lexer": "ipython3",
   "version": "3.7.4"
  }
 },
 "nbformat": 4,
 "nbformat_minor": 4
}
